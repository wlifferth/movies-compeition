{
 "cells": [
  {
   "cell_type": "code",
   "execution_count": 1,
   "metadata": {},
   "outputs": [],
   "source": [
    "import numpy as np\n",
    "import pandas as pd\n",
    "from sklearn.feature_extraction.text import CountVectorizer\n",
    "from sklearn.naive_bayes import GaussianNB"
   ]
  },
  {
   "cell_type": "code",
   "execution_count": 2,
   "metadata": {},
   "outputs": [],
   "source": [
    "train = pd.read_csv('train.csv')\n",
    "test = pd.read_csv('test.csv')"
   ]
  },
  {
   "cell_type": "code",
   "execution_count": 3,
   "metadata": {},
   "outputs": [],
   "source": [
    "# Create a test/train split\n",
    "train_sample_mask = np.random.rand(len(train)) > 0.5\n",
    "test_sample_mask = ~train_sample_mask\n",
    "train_sample = train[train_sample_mask]\n",
    "test_sample = train[test_sample_mask]"
   ]
  },
  {
   "cell_type": "code",
   "execution_count": 4,
   "metadata": {},
   "outputs": [],
   "source": [
    "# Create our input count vector\n",
    "count_vect = CountVectorizer()\n",
    "train_counts = count_vect.fit_transform(train_sample['text']).toarray()\n",
    "test_counts = count_vect.transform(test_sample['text']).toarray()"
   ]
  },
  {
   "cell_type": "code",
   "execution_count": 5,
   "metadata": {},
   "outputs": [],
   "source": [
    "# Create our output label one-hot vector\n",
    "train_labels = pd.get_dummies(train['genre'], columns=['genre']).values\n",
    "test_labels = pd.get_dummies(train['genre'], columns=['genre']).values"
   ]
  },
  {
   "cell_type": "code",
   "execution_count": 6,
   "metadata": {},
   "outputs": [],
   "source": [
    "def encode_genre(genre):\n",
    "    genre_dict = {'drama':0, 'thriller':1, 'action':2, 'comedy':3, 'romance':4, 'sci-fi':5, 'adventure':6, 'horror':7, 'other': 8}\n",
    "    return genre_dict[genre]\n",
    "def decode_genre(genre_id):\n",
    "    genre_id_dict = {0:'drama', 1:'thriller', 2:'action', 3:'comedy', 4:'romance', 5:'sci-fi', 6:'adventure', 7:'horror', 8:'other'}\n",
    "    return genre_id_dict[genre_id]"
   ]
  },
  {
   "cell_type": "code",
   "execution_count": 7,
   "metadata": {},
   "outputs": [],
   "source": [
    "train_labels = train_sample['genre'].apply(encode_genre)\n",
    "test_labels = test_sample['genre'].apply(encode_genre)"
   ]
  },
  {
   "cell_type": "code",
   "execution_count": 8,
   "metadata": {},
   "outputs": [
    {
     "data": {
      "text/plain": [
       "0.677"
      ]
     },
     "execution_count": 8,
     "metadata": {},
     "output_type": "execute_result"
    }
   ],
   "source": [
    "# Train out GaussianNB model\n",
    "model = GaussianNB()\n",
    "model.fit(train_counts[:1000], train_labels[:1000])\n",
    "model.score(test_counts[:1000], test_labels[:1000])"
   ]
  },
  {
   "cell_type": "code",
   "execution_count": null,
   "metadata": {},
   "outputs": [],
   "source": [
    "predictions = model.predict(count_vect.transform(test['text']).toarray())"
   ]
  },
  {
   "cell_type": "code",
   "execution_count": null,
   "metadata": {},
   "outputs": [],
   "source": []
  }
 ],
 "metadata": {
  "kernelspec": {
   "display_name": "Python 3",
   "language": "python",
   "name": "python3"
  },
  "language_info": {
   "codemirror_mode": {
    "name": "ipython",
    "version": 3
   },
   "file_extension": ".py",
   "mimetype": "text/x-python",
   "name": "python",
   "nbconvert_exporter": "python",
   "pygments_lexer": "ipython3",
   "version": "3.6.5"
  }
 },
 "nbformat": 4,
 "nbformat_minor": 2
}
