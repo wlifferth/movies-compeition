{
 "cells": [
  {
   "cell_type": "code",
   "execution_count": 28,
   "metadata": {},
   "outputs": [],
   "source": [
    "import numpy as np\n",
    "import pandas as pd\n",
    "from sklearn.feature_extraction.text import CountVectorizer\n",
    "from sklearn.tree import DecisionTreeClassifier\n",
    "import matplotlib.pyplot as plt"
   ]
  },
  {
   "cell_type": "code",
   "execution_count": 29,
   "metadata": {},
   "outputs": [],
   "source": [
    "train = pd.read_csv('train.csv')\n",
    "test = pd.read_csv('test.csv')"
   ]
  },
  {
   "cell_type": "code",
   "execution_count": 30,
   "metadata": {},
   "outputs": [],
   "source": [
    "# Create a test/train split\n",
    "train_sample_mask = np.random.rand(len(train)) > 0.5\n",
    "test_sample_mask = ~train_sample_mask\n",
    "train_sample = train[train_sample_mask]\n",
    "test_sample = train[test_sample_mask]"
   ]
  },
  {
   "cell_type": "code",
   "execution_count": 31,
   "metadata": {},
   "outputs": [],
   "source": [
    "# Create our input count vector\n",
    "count_vect = CountVectorizer(strip_accents='ascii', stop_words='english', max_features=1000)\n",
    "train_counts = count_vect.fit_transform(train_sample['text']).toarray()\n",
    "test_counts = count_vect.transform(test_sample['text']).toarray()"
   ]
  },
  {
   "cell_type": "code",
   "execution_count": 32,
   "metadata": {},
   "outputs": [],
   "source": [
    "# Create our output label one-hot vector\n",
    "train_labels = pd.get_dummies(train['genre'], columns=['genre']).values\n",
    "test_labels = pd.get_dummies(train['genre'], columns=['genre']).values"
   ]
  },
  {
   "cell_type": "code",
   "execution_count": 33,
   "metadata": {},
   "outputs": [],
   "source": [
    "def encode_genre(genre):\n",
    "    genre_dict = {'drama':0, 'thriller':1, 'action':2, 'comedy':3, 'romance':4, 'sci-fi':5, 'adventure':6, 'horror':7, 'other': 8}\n",
    "    return genre_dict[genre]\n",
    "def decode_genre(genre_id):\n",
    "    genre_id_dict = {0:'drama', 1:'thriller', 2:'action', 3:'comedy', 4:'romance', 5:'sci-fi', 6:'adventure', 7:'horror', 8:'other'}\n",
    "    return genre_id_dict[genre_id]"
   ]
  },
  {
   "cell_type": "code",
   "execution_count": 34,
   "metadata": {},
   "outputs": [],
   "source": [
    "train_labels = train_sample['genre'].apply(encode_genre)\n",
    "test_labels = test_sample['genre'].apply(encode_genre)"
   ]
  },
  {
   "cell_type": "code",
   "execution_count": 35,
   "metadata": {},
   "outputs": [
    {
     "name": "stdout",
     "output_type": "stream",
     "text": [
      "0.378\n",
      "0.355\n",
      "0.359\n",
      "0.455\n",
      "0.459\n"
     ]
    }
   ],
   "source": [
    "# Let's try training our model on successively more data:\n",
    "model = DecisionTreeClassifier()\n",
    "results = list()\n",
    "dataset_size = [10, 100, 1000, 5000, 10000]\n",
    "for i in dataset_size:\n",
    "    model.fit(train_counts[:i], train_labels[:i])\n",
    "    result = model.score(test_counts[:1000], test_labels[:1000])\n",
    "    print(result)\n",
    "    results.append(result)"
   ]
  },
  {
   "cell_type": "code",
   "execution_count": 36,
   "metadata": {},
   "outputs": [
    {
     "data": {
      "image/png": "[encoded data removed]",
      "text/plain": [
       "<Figure size 432x288 with 1 Axes>"
      ]
     },
     "metadata": {},
     "output_type": "display_data"
    }
   ],
   "source": [
    "plt.style.use('ggplot')\n",
    "plt.plot(dataset_size, results)\n",
    "plt.ylabel(\"accuracy\")\n",
    "plt.xlabel(\"amount of training data\")\n",
    "plt.show()"
   ]
  },
  {
   "cell_type": "code",
   "execution_count": 37,
   "metadata": {},
   "outputs": [],
   "source": [
    "predictions = model.predict(count_vect.transform(test['text']).toarray())"
   ]
  },
  {
   "cell_type": "code",
   "execution_count": null,
   "metadata": {},
   "outputs": [],
   "source": []
  }
 ],
 "metadata": {
  "kernelspec": {
   "display_name": "Python 3",
   "language": "python",
   "name": "python3"
  },
  "language_info": {
   "codemirror_mode": {
    "name": "ipython",
    "version": 3
   },
   "file_extension": ".py",
   "mimetype": "text/x-python",
   "name": "python",
   "nbconvert_exporter": "python",
   "pygments_lexer": "ipython3",
   "version": "3.6.5"
  }
 },
 "nbformat": 4,
 "nbformat_minor": 2
}
